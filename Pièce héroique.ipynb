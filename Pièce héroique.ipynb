{
 "cells": [
  {
   "cell_type": "code",
   "execution_count": 168,
   "metadata": {},
   "outputs": [],
   "source": [
    "f = open('female.txt')\n",
    "female_raw=f.readlines()\n",
    "f1 = open('male.txt')\n",
    "male_raw=f1.readlines()"
   ]
  },
  {
   "cell_type": "code",
   "execution_count": 169,
   "metadata": {},
   "outputs": [],
   "source": [
    "matches=set(female_raw).intersection(male_raw)"
   ]
  },
  {
   "cell_type": "code",
   "execution_count": 170,
   "metadata": {},
   "outputs": [],
   "source": [
    "female=list(set(female_raw)-matches)\n",
    "male=list(set(male_raw)-matches)"
   ]
  },
  {
   "cell_type": "code",
   "execution_count": 171,
   "metadata": {},
   "outputs": [],
   "source": [
    "female=[i[:-1].lower() for i in female]\n",
    "male=[i[:-1].lower() for i in male]"
   ]
  },
  {
   "cell_type": "code",
   "execution_count": 172,
   "metadata": {},
   "outputs": [],
   "source": [
    "female=female[0:len(male)]"
   ]
  },
  {
   "cell_type": "code",
   "execution_count": 173,
   "metadata": {},
   "outputs": [
    {
     "data": {
      "text/plain": [
       "True"
      ]
     },
     "execution_count": 173,
     "metadata": {},
     "output_type": "execute_result"
    }
   ],
   "source": [
    "len(female)==len(male)"
   ]
  },
  {
   "cell_type": "code",
   "execution_count": 174,
   "metadata": {},
   "outputs": [],
   "source": [
    "from sklearn.naive_bayes import MultinomialNB\n",
    "from nltk.util import ngrams\n",
    "from sklearn.pipeline import Pipeline\n",
    "from sklearn.feature_extraction.text import *\n",
    "import pandas as pd\n",
    "from sklearn.model_selection import train_test_split\n",
    "from collections import defaultdict\n",
    "import numpy as np"
   ]
  },
  {
   "cell_type": "code",
   "execution_count": 175,
   "metadata": {},
   "outputs": [],
   "source": [
    "lst = []\n",
    "for i in female:\n",
    "    jj = list(i)\n",
    "    ngr = list(ngrams(jj, 2))\n",
    "    lst.append(ngr)"
   ]
  },
  {
   "cell_type": "code",
   "execution_count": 176,
   "metadata": {},
   "outputs": [
    {
     "name": "stdout",
     "output_type": "stream",
     "text": [
      "13375\n",
      "372\n"
     ]
    }
   ],
   "source": [
    "lst2 = []\n",
    "for tple in lst:\n",
    "    for fr in tple:\n",
    "        fr2 = ''.join([i for i in fr])\n",
    "        lst2.append(fr2)\n",
    "print (len(lst2))\n",
    "lst2 = list(set(lst2))\n",
    "print (len(lst2))"
   ]
  },
  {
   "cell_type": "code",
   "execution_count": 177,
   "metadata": {},
   "outputs": [
    {
     "name": "stdout",
     "output_type": "stream",
     "text": [
      "372\n"
     ]
    }
   ],
   "source": [
    "lst3 = []\n",
    "for i in range(len(lst2)):\n",
    "    lst3.append(i)\n",
    "\n",
    "newlst = list(zip(lst2, lst3))\n",
    "print (len(newlst))"
   ]
  },
  {
   "cell_type": "code",
   "execution_count": 178,
   "metadata": {},
   "outputs": [
    {
     "name": "stdout",
     "output_type": "stream",
     "text": [
      "372\n"
     ]
    }
   ],
   "source": [
    "diction = dict(newlst)\n",
    "print(len(diction))"
   ]
  },
  {
   "cell_type": "code",
   "execution_count": 179,
   "metadata": {},
   "outputs": [],
   "source": [
    "morelistsforgodoflists = []\n",
    "for i in female:\n",
    "    x = [i[d:d+2] for d in range(len(i)-1)]\n",
    "    morelistsforgodoflists.append(x)"
   ]
  },
  {
   "cell_type": "code",
   "execution_count": 180,
   "metadata": {},
   "outputs": [
    {
     "name": "stdout",
     "output_type": "stream",
     "text": [
      "[['th', 'he', 'er', 're', 'es', 'ss', 'sa'], ['sh', 'ha', 'al', 'ln', 'na'], ['al', 'li', 'in', 'ne'], ['vi', 'iv', 'vi', 'ie'], ['el', 'le', 'eo', 'on', 'no', 'or', 're'], ['ma', 'ai', 'ir', 're'], ['ca', 'ar', 'ro', 'ol', 'ly', 'yn', 'nn'], ['co', 'on', 'nc', 'co', 'or', 'rd', 'di', 'ia'], ['ai', 'il', 'le', 'ee', 'en'], ['kr', 'ry', 'ys', 'st', 'ta', 'al', 'll', 'le']]\n"
     ]
    }
   ],
   "source": [
    "print(morelistsforgodoflists[:10])"
   ]
  },
  {
   "cell_type": "code",
   "execution_count": 181,
   "metadata": {},
   "outputs": [
    {
     "name": "stdout",
     "output_type": "stream",
     "text": [
      "2578\n"
     ]
    }
   ],
   "source": [
    "matrices2 = []\n",
    "for jjj in morelistsforgodoflists:\n",
    "    mtrx = np.zeros((len(diction),), dtype=np.float)\n",
    "    for ii in jjj:\n",
    "        mtrx[diction[ii]]+=1.0\n",
    "    matrices2.append(mtrx)\n",
    "\n",
    "print(len(matrices2))"
   ]
  },
  {
   "cell_type": "markdown",
   "metadata": {},
   "source": [
    "Проделаем тот же трюк для мужских имен."
   ]
  },
  {
   "cell_type": "code",
   "execution_count": 182,
   "metadata": {},
   "outputs": [],
   "source": [
    "lstmale = []\n",
    "for i in male:\n",
    "    jj = list(i)\n",
    "    ngr = list(ngrams(jj, 2))\n",
    "    lstmale.append(ngr)\n",
    "lst2male = []\n",
    "for tple in lstmale:\n",
    "    for fr in tple:\n",
    "        fr2 = ''.join([i for i in fr])\n",
    "        lst2male.append(fr2)\n",
    "lst2male = list(set(lst2male))\n",
    "lst3male = []\n",
    "for i in range(len(lst2male)):\n",
    "    lst3male.append(i)\n",
    "newlstmale = list(zip(lst2male, lst3male))\n",
    "dictionmale = dict(newlstmale)\n",
    "morelistsforgodoflistsmale = []\n",
    "for i in male:\n",
    "    x = [i[d:d+2] for d in range(len(i)-1)]\n",
    "    morelistsforgodoflistsmale.append(x)\n",
    "matrices3 = []\n",
    "for jjj in morelistsforgodoflistsmale:\n",
    "    mtrx = np.zeros((len(dictionmale),), dtype=np.float)\n",
    "    for ii in jjj:\n",
    "        mtrx[dictionmale[ii]]+=1.0\n",
    "    matrices3.append(mtrx)"
   ]
  },
  {
   "cell_type": "code",
   "execution_count": 183,
   "metadata": {},
   "outputs": [
    {
     "data": {
      "text/plain": [
       "True"
      ]
     },
     "execution_count": 183,
     "metadata": {},
     "output_type": "execute_result"
    }
   ],
   "source": [
    "len(matrices2)==len(matrices3)"
   ]
  },
  {
   "cell_type": "code",
   "execution_count": 184,
   "metadata": {},
   "outputs": [],
   "source": [
    "femnames = np.array(matrices2)\n",
    "types1 = [np.float(0)] * len(femnames)\n",
    "femds = list(zip(femnames,types1))\n",
    "malenames = np.array(matrices3)\n",
    "types2 = [np.float(1)] * len(malenames)\n",
    "mads = list(zip(malenames,types2))\n",
    "ds = femds+mads"
   ]
  },
  {
   "cell_type": "code",
   "execution_count": 185,
   "metadata": {},
   "outputs": [],
   "source": [
    "DF = pd.DataFrame(data = ds, columns=['Names', 'Label'])\n",
    "x = DF['Names']\n",
    "y = DF['Label']"
   ]
  },
  {
   "cell_type": "code",
   "execution_count": 186,
   "metadata": {},
   "outputs": [
    {
     "name": "stdout",
     "output_type": "stream",
     "text": [
      "<class 'numpy.ndarray'>\n"
     ]
    }
   ],
   "source": [
    "print(type(femnames))"
   ]
  },
  {
   "cell_type": "code",
   "execution_count": 187,
   "metadata": {},
   "outputs": [],
   "source": [
    "x_train, x_test, y_train, y_test = train_test_split(x, y, test_size=0.25)"
   ]
  },
  {
   "cell_type": "code",
   "execution_count": 188,
   "metadata": {},
   "outputs": [
    {
     "data": {
      "text/plain": [
       "3978    1.0\n",
       "1437    0.0\n",
       "3377    1.0\n",
       "2455    0.0\n",
       "4213    1.0\n",
       "905     0.0\n",
       "783     0.0\n",
       "1039    0.0\n",
       "550     0.0\n",
       "1314    0.0\n",
       "4402    1.0\n",
       "910     0.0\n",
       "1114    0.0\n",
       "3200    1.0\n",
       "2784    1.0\n",
       "4383    1.0\n",
       "1360    0.0\n",
       "1741    0.0\n",
       "2472    0.0\n",
       "2619    1.0\n",
       "4933    1.0\n",
       "4954    1.0\n",
       "637     0.0\n",
       "48      0.0\n",
       "1014    0.0\n",
       "1118    0.0\n",
       "2071    0.0\n",
       "2818    1.0\n",
       "2774    1.0\n",
       "2632    1.0\n",
       "       ... \n",
       "2800    1.0\n",
       "1803    0.0\n",
       "595     0.0\n",
       "504     0.0\n",
       "52      0.0\n",
       "1015    0.0\n",
       "2300    0.0\n",
       "67      0.0\n",
       "2051    0.0\n",
       "4842    1.0\n",
       "1087    0.0\n",
       "664     0.0\n",
       "1502    0.0\n",
       "4890    1.0\n",
       "2002    0.0\n",
       "4654    1.0\n",
       "4178    1.0\n",
       "3709    1.0\n",
       "2879    1.0\n",
       "1874    0.0\n",
       "3104    1.0\n",
       "4746    1.0\n",
       "1624    0.0\n",
       "333     0.0\n",
       "992     0.0\n",
       "453     0.0\n",
       "3760    1.0\n",
       "2358    0.0\n",
       "4202    1.0\n",
       "3935    1.0\n",
       "Name: Label, Length: 3867, dtype: float64"
      ]
     },
     "execution_count": 188,
     "metadata": {},
     "output_type": "execute_result"
    }
   ],
   "source": [
    "y_train"
   ]
  },
  {
   "cell_type": "code",
   "execution_count": null,
   "metadata": {},
   "outputs": [],
   "source": [
    "clf = MultinomialNB()\n",
    "clf.fit(x_train, y_train)"
   ]
  },
  {
   "cell_type": "code",
   "execution_count": null,
   "metadata": {},
   "outputs": [],
   "source": [
    "clf = Pipeline([\n",
    "    \n",
    "    ('clf', MultinomialNB()),\n",
    "])\n",
    "\n",
    "\n",
    "clf.fit(x_train, y_train)\n",
    "predictions = clf.predict(x_test)\n",
    "print (predictions)"
   ]
  },
  {
   "cell_type": "code",
   "execution_count": null,
   "metadata": {},
   "outputs": [],
   "source": []
  }
 ],
 "metadata": {
  "kernelspec": {
   "display_name": "Python 3",
   "language": "python",
   "name": "python3"
  },
  "language_info": {
   "codemirror_mode": {
    "name": "ipython",
    "version": 3
   },
   "file_extension": ".py",
   "mimetype": "text/x-python",
   "name": "python",
   "nbconvert_exporter": "python",
   "pygments_lexer": "ipython3",
   "version": "3.5.5"
  }
 },
 "nbformat": 4,
 "nbformat_minor": 2
}
